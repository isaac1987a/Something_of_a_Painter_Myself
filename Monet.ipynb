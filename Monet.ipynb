{
  "cells": [
    {
      "cell_type": "code",
      "source": [
        "!whoami"
      ],
      "metadata": {
        "colab": {
          "base_uri": "https://localhost:8080/"
        },
        "id": "0cAiOs77tnAw",
        "outputId": "c638028c-52f9-4e85-b923-d03b8fa27b25"
      },
      "id": "0cAiOs77tnAw",
      "execution_count": 2,
      "outputs": [
        {
          "output_type": "stream",
          "name": "stdout",
          "text": [
            "root\n"
          ]
        }
      ]
    },
    {
      "cell_type": "code",
      "execution_count": 7,
      "id": "4c5eb853-63de-418a-aa67-ab72a439576b",
      "metadata": {
        "id": "4c5eb853-63de-418a-aa67-ab72a439576b"
      },
      "outputs": [],
      "source": [
        "!chmod 600 /root/.kaggle/kaggle.json"
      ]
    },
    {
      "cell_type": "markdown",
      "id": "19974c0f-b2d2-42ca-9bbc-7eb27100da3a",
      "metadata": {
        "id": "19974c0f-b2d2-42ca-9bbc-7eb27100da3a"
      },
      "source": [
        "# Project Goal and Overview\n",
        "The goal of this project is to create a Generative Adversarial Network (GAN) to convert images into the monet style.  To do this, I will use the 300 monet images to perform the training.  There are 300 Monets"
      ]
    },
    {
      "cell_type": "code",
      "execution_count": 8,
      "id": "8558c137-5e9d-43ec-ac82-c1e5907c51ea",
      "metadata": {
        "id": "8558c137-5e9d-43ec-ac82-c1e5907c51ea"
      },
      "outputs": [],
      "source": [
        "import kaggle\n",
        "import zipfile\n",
        "import keras\n",
        "from keras import layers\n",
        "import numpy as np\n",
        "import os"
      ]
    },
    {
      "cell_type": "code",
      "execution_count": 9,
      "id": "f2aa50e0-6ac1-4b0c-b856-eacfbbc1ab7e",
      "metadata": {
        "id": "f2aa50e0-6ac1-4b0c-b856-eacfbbc1ab7e"
      },
      "outputs": [],
      "source": [
        "if not os.path.exists('kaggle'):\n",
        "    !kaggle competitions download -c 'gan-getting-started'\n",
        "    #!mkdir kaggle\n",
        "    #!mkdir kaggle/input\n",
        "    #!mkdir kaggle/input/gan-getting-started\n",
        "    #!unzip -qq gan-getting-started.zip -d kaggle/input/gan-getting-started\n",
        "    with zipfile.ZipFile('gan-getting-started.zip', 'r') as zip_ref:\n",
        "        zip_ref.extractall('./kaggle/input/gan-getting-started')"
      ]
    },
    {
      "cell_type": "markdown",
      "id": "ae7c25ba-9683-4aaf-ac05-684d97ad1de3",
      "metadata": {
        "id": "ae7c25ba-9683-4aaf-ac05-684d97ad1de3"
      },
      "source": [
        "# Data Description\n"
      ]
    },
    {
      "cell_type": "code",
      "execution_count": 10,
      "id": "b01775d7-070a-4c44-a317-df991bf30e49",
      "metadata": {
        "colab": {
          "base_uri": "https://localhost:8080/"
        },
        "id": "b01775d7-070a-4c44-a317-df991bf30e49",
        "outputId": "0c4feeb4-596e-400e-87fe-1dc5adf913bb"
      },
      "outputs": [
        {
          "output_type": "stream",
          "name": "stdout",
          "text": [
            "There are 300 Monet Images.\n",
            "There are 7038 Monet Images.\n"
          ]
        }
      ],
      "source": [
        "def count_files_in_directory(directory_path):\n",
        "    # List all files in the directory\n",
        "    files = [f for f in os.listdir(directory_path) if os.path.isfile(os.path.join(directory_path, f))]\n",
        "    # Count the number of files\n",
        "    file_count = len(files)\n",
        "    return file_count\n",
        "directory_path = './kaggle/input/gan-getting-started/monet_jpg'  # Replace with your folder path\n",
        "file_count = count_files_in_directory(directory_path)\n",
        "print(f'There are {file_count} Monet Images.')\n",
        "\n",
        "directory_path = './kaggle/input/gan-getting-started/photo_jpg'  # Replace with your folder path\n",
        "file_count = count_files_in_directory(directory_path)\n",
        "print(f'There are {file_count} Monet Images.')"
      ]
    },
    {
      "cell_type": "code",
      "execution_count": 6,
      "id": "13d8379a-a7b7-4f2d-8ef2-36797b20cf15",
      "metadata": {
        "id": "13d8379a-a7b7-4f2d-8ef2-36797b20cf15"
      },
      "outputs": [],
      "source": [
        "\n",
        "input_img = keras.Input(shape=(28, 28, 1))\n",
        "\n",
        "x = layers.Conv2D(16, (3, 3), activation='relu', padding='same')(input_img)\n",
        "x = layers.MaxPooling2D((2, 2), padding='same')(x)\n",
        "x = layers.Conv2D(8, (3, 3), activation='relu', padding='same')(x)\n",
        "x = layers.MaxPooling2D((2, 2), padding='same')(x)\n",
        "x = layers.Conv2D(8, (3, 3), activation='relu', padding='same')(x)\n",
        "encoded = layers.MaxPooling2D((2, 2), padding='same')(x)\n",
        "\n",
        "# at this point the representation is (4, 4, 8) i.e. 128-dimensional\n",
        "\n",
        "x = layers.Conv2D(8, (3, 3), activation='relu', padding='same')(encoded)\n",
        "x = layers.UpSampling2D((2, 2))(x)\n",
        "x = layers.Conv2D(8, (3, 3), activation='relu', padding='same')(x)\n",
        "x = layers.UpSampling2D((2, 2))(x)\n",
        "x = layers.Conv2D(16, (3, 3), activation='relu')(x)\n",
        "x = layers.UpSampling2D((2, 2))(x)\n",
        "decoded = layers.Conv2D(1, (3, 3), activation='sigmoid', padding='same')(x)\n",
        "\n",
        "autoencoder = keras.Model(input_img, decoded)\n",
        "autoencoder.compile(optimizer='adam', loss='binary_crossentropy')"
      ]
    },
    {
      "cell_type": "code",
      "execution_count": null,
      "id": "04fe98ad-7b90-4c90-8725-b895c80ff007",
      "metadata": {
        "id": "04fe98ad-7b90-4c90-8725-b895c80ff007"
      },
      "outputs": [],
      "source": [
        "x_train = x_train.astype('float32') / 255.\n",
        "x_test = x_test.astype('float32') / 255.\n",
        "x_train = np.reshape(x_train, (len(x_train), 28, 28, 1))\n",
        "x_test = np.reshape(x_test, (len(x_test), 28, 28, 1))"
      ]
    },
    {
      "cell_type": "code",
      "execution_count": null,
      "id": "64a81172-bf4a-4078-a791-caed6924088e",
      "metadata": {
        "id": "64a81172-bf4a-4078-a791-caed6924088e",
        "outputId": "3ae0e5e8-f8c8-40dd-bddb-a8d505baffa9"
      },
      "outputs": [
        {
          "ename": "NameError",
          "evalue": "name 'x_train' is not defined",
          "output_type": "error",
          "traceback": [
            "\u001b[0;31m---------------------------------------------------------------------------\u001b[0m",
            "\u001b[0;31mNameError\u001b[0m                                 Traceback (most recent call last)",
            "Cell \u001b[0;32mIn[21], line 1\u001b[0m\n\u001b[0;32m----> 1\u001b[0m x_train \u001b[38;5;241m=\u001b[39m \u001b[43mx_train\u001b[49m\u001b[38;5;241m.\u001b[39mastype(\u001b[38;5;124m'\u001b[39m\u001b[38;5;124mfloat32\u001b[39m\u001b[38;5;124m'\u001b[39m) \u001b[38;5;241m/\u001b[39m \u001b[38;5;241m255.\u001b[39m\n\u001b[1;32m      2\u001b[0m x_test \u001b[38;5;241m=\u001b[39m x_test\u001b[38;5;241m.\u001b[39mastype(\u001b[38;5;124m'\u001b[39m\u001b[38;5;124mfloat32\u001b[39m\u001b[38;5;124m'\u001b[39m) \u001b[38;5;241m/\u001b[39m \u001b[38;5;241m255.\u001b[39m\n\u001b[1;32m      3\u001b[0m x_train \u001b[38;5;241m=\u001b[39m np\u001b[38;5;241m.\u001b[39mreshape(x_train, (\u001b[38;5;28mlen\u001b[39m(x_train), \u001b[38;5;241m28\u001b[39m, \u001b[38;5;241m28\u001b[39m, \u001b[38;5;241m1\u001b[39m))\n",
            "\u001b[0;31mNameError\u001b[0m: name 'x_train' is not defined"
          ]
        }
      ],
      "source": [
        "x_train = x_train.astype('float32') / 255.\n",
        "x_test = x_test.astype('float32') / 255.\n",
        "x_train = np.reshape(x_train, (len(x_train), 28, 28, 1))\n",
        "x_test = np.reshape(x_test, (len(x_test), 28, 28, 1))"
      ]
    },
    {
      "cell_type": "code",
      "execution_count": null,
      "id": "06bc3717-b6c6-4f6c-9ee1-adbf262facc4",
      "metadata": {
        "id": "06bc3717-b6c6-4f6c-9ee1-adbf262facc4"
      },
      "outputs": [],
      "source": [
        "tensorboard --logdir=/tmp/autoencoder"
      ]
    },
    {
      "cell_type": "code",
      "execution_count": null,
      "id": "708b7901-7885-4dda-9a17-a9d741f4d53d",
      "metadata": {
        "id": "708b7901-7885-4dda-9a17-a9d741f4d53d"
      },
      "outputs": [],
      "source": [
        "from keras.callbacks import TensorBoard\n",
        "\n",
        "autoencoder.fit(x_train, x_train,\n",
        "                epochs=50,\n",
        "                batch_size=128,\n",
        "                shuffle=True,\n",
        "                validation_data=(x_test, x_test),\n",
        "                callbacks=[TensorBoard(log_dir='/tmp/autoencoder')])\n"
      ]
    },
    {
      "cell_type": "code",
      "execution_count": null,
      "id": "dbc74a58-3503-4d34-86ff-e765a8a49aa1",
      "metadata": {
        "id": "dbc74a58-3503-4d34-86ff-e765a8a49aa1"
      },
      "outputs": [],
      "source": [
        "decoded_imgs = autoencoder.predict(x_test)\n",
        "\n",
        "n = 10\n",
        "plt.figure(figsize=(20, 4))\n",
        "for i in range(1, n + 1):\n",
        "    # Display original\n",
        "    ax = plt.subplot(2, n, i)\n",
        "    plt.imshow(x_test[i].reshape(28, 28))\n",
        "    plt.gray()\n",
        "    ax.get_xaxis().set_visible(False)\n",
        "    ax.get_yaxis().set_visible(False)\n",
        "\n",
        "    # Display reconstruction\n",
        "    ax = plt.subplot(2, n, i + n)\n",
        "    plt.imshow(decoded_imgs[i].reshape(28, 28))\n",
        "    plt.gray()\n",
        "    ax.get_xaxis().set_visible(False)\n",
        "    ax.get_yaxis().set_visible(False)\n",
        "plt.show()"
      ]
    },
    {
      "cell_type": "code",
      "execution_count": null,
      "id": "8b551571-96d8-4c72-a805-dee7af7afb9e",
      "metadata": {
        "id": "8b551571-96d8-4c72-a805-dee7af7afb9e"
      },
      "outputs": [],
      "source": []
    },
    {
      "cell_type": "code",
      "execution_count": null,
      "id": "cd4f55b0-35bf-4906-8ec1-2ceb79cc5756",
      "metadata": {
        "id": "cd4f55b0-35bf-4906-8ec1-2ceb79cc5756",
        "outputId": "517d4cea-0e98-4462-e225-222abf5179ae"
      },
      "outputs": [
        {
          "name": "stdout",
          "output_type": "stream",
          "text": [
            "[main 5213f18] a\n",
            " 2 files changed, 4 insertions(+), 2 deletions(-)\n",
            "Enumerating objects: 5, done.\n",
            "Counting objects: 100% (5/5), done.\n",
            "Delta compression using up to 256 threads\n",
            "Compressing objects: 100% (2/2), done.\n",
            "Writing objects: 100% (3/3), 338 bytes | 338.00 KiB/s, done.\n",
            "Total 3 (delta 0), reused 0 (delta 0), pack-reused 0\n",
            "To github.com:isaac1987a/Something_of_a_Painter_Myself.git\n",
            "   c3fcf14..5213f18  main -> main\n"
          ]
        }
      ],
      "source": [
        "!git add .\n",
        "!git config --global user.email \"you@example.com\"\n",
        "!git config --global user.name \"Your Name\"\n",
        "!git commit -m 'a'\n",
        "!git push"
      ]
    },
    {
      "cell_type": "code",
      "execution_count": null,
      "id": "f633f3b8-5a7a-40c6-b90c-6de4c1447ebd",
      "metadata": {
        "id": "f633f3b8-5a7a-40c6-b90c-6de4c1447ebd"
      },
      "outputs": [],
      "source": []
    }
  ],
  "metadata": {
    "kernelspec": {
      "display_name": "Python 3 (ipykernel)",
      "language": "python",
      "name": "python3"
    },
    "language_info": {
      "codemirror_mode": {
        "name": "ipython",
        "version": 3
      },
      "file_extension": ".py",
      "mimetype": "text/x-python",
      "name": "python",
      "nbconvert_exporter": "python",
      "pygments_lexer": "ipython3",
      "version": "3.11.0rc1"
    },
    "colab": {
      "provenance": []
    }
  },
  "nbformat": 4,
  "nbformat_minor": 5
}